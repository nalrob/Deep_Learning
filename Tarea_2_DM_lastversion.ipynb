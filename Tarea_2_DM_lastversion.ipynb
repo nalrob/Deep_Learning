{
  "nbformat": 4,
  "nbformat_minor": 0,
  "metadata": {
    "colab": {
      "provenance": [],
      "authorship_tag": "ABX9TyMQH/31JOUACbpQ/KCJD6Df",
      "include_colab_link": true
    },
    "kernelspec": {
      "name": "python3",
      "display_name": "Python 3"
    },
    "language_info": {
      "name": "python"
    }
  },
  "cells": [
    {
      "cell_type": "markdown",
      "metadata": {
        "id": "view-in-github",
        "colab_type": "text"
      },
      "source": [
        "<a href=\"https://colab.research.google.com/github/nalrob/Deep_Learning/blob/main/Tarea_2_DM_lastversion.ipynb\" target=\"_parent\"><img src=\"https://colab.research.google.com/assets/colab-badge.svg\" alt=\"Open In Colab\"/></a>"
      ]
    },
    {
      "cell_type": "code",
      "execution_count": null,
      "metadata": {
        "id": "9XkSli75ztdv"
      },
      "outputs": [],
      "source": [
        "import numpy as np # linear algebra\n",
        "import pandas as pd # data processing, CSV file I/O (e.g. pd.read_csv)\n",
        "import matplotlib.pyplot as plt #Data Visualization\n",
        "import seaborn as sns  #Python library for Vidualization\n",
        "import os"
      ]
    },
    {
      "cell_type": "code",
      "source": [
        "df = pd.read_csv('/content/energy_dataset.csv')\n",
        "df.head(10)"
      ],
      "metadata": {
        "colab": {
          "base_uri": "https://localhost:8080/",
          "height": 363
        },
        "id": "hp8Lps2yBCB_",
        "outputId": "7280bc72-2ca4-4b94-ec83-8c16a46abf54"
      },
      "execution_count": null,
      "outputs": [
        {
          "output_type": "execute_result",
          "data": {
            "text/plain": [
              "                        date  generation_biomass  generation_fossil_hard_coal  \\\n",
              "0  2015-01-01 00:00:00+01:00                 447                         4821   \n",
              "1  2015-01-01 01:00:00+01:00                 449                         4755   \n",
              "2  2015-01-01 02:00:00+01:00                 448                         4581   \n",
              "3  2015-01-01 03:00:00+01:00                 438                         4131   \n",
              "4  2015-01-01 04:00:00+01:00                 428                         3840   \n",
              "5  2015-01-01 05:00:00+01:00                 410                         3590   \n",
              "6  2015-01-01 06:00:00+01:00                 401                         3368   \n",
              "7  2015-01-01 07:00:00+01:00                 408                         3208   \n",
              "8  2015-01-01 08:00:00+01:00                 413                         3335   \n",
              "9  2015-01-01 09:00:00+01:00                 419                         3437   \n",
              "\n",
              "   generation_fossil_oil  generation_nuclear  generation_other_renewable  \\\n",
              "0                    162                7096                          73   \n",
              "1                    158                7096                          71   \n",
              "2                    157                7099                          73   \n",
              "3                    160                7098                          75   \n",
              "4                    156                7097                          74   \n",
              "5                    156                7098                          74   \n",
              "6                    158                7098                          74   \n",
              "7                    160                7099                          72   \n",
              "8                    161                7098                          73   \n",
              "9                    163                7097                          74   \n",
              "\n",
              "   generation_solar  generation_waste  price_actual  \n",
              "0                49               196         65.41  \n",
              "1                50               195         64.92  \n",
              "2                50               196         64.48  \n",
              "3                50               191         59.32  \n",
              "4                42               189         56.04  \n",
              "5                34               188         53.63  \n",
              "6                34               186         51.73  \n",
              "7                35               189         51.43  \n",
              "8                54               198         48.98  \n",
              "9               743               198         54.20  "
            ],
            "text/html": [
              "\n",
              "  <div id=\"df-0debc932-5b4b-451e-bd66-769039b262a7\">\n",
              "    <div class=\"colab-df-container\">\n",
              "      <div>\n",
              "<style scoped>\n",
              "    .dataframe tbody tr th:only-of-type {\n",
              "        vertical-align: middle;\n",
              "    }\n",
              "\n",
              "    .dataframe tbody tr th {\n",
              "        vertical-align: top;\n",
              "    }\n",
              "\n",
              "    .dataframe thead th {\n",
              "        text-align: right;\n",
              "    }\n",
              "</style>\n",
              "<table border=\"1\" class=\"dataframe\">\n",
              "  <thead>\n",
              "    <tr style=\"text-align: right;\">\n",
              "      <th></th>\n",
              "      <th>date</th>\n",
              "      <th>generation_biomass</th>\n",
              "      <th>generation_fossil_hard_coal</th>\n",
              "      <th>generation_fossil_oil</th>\n",
              "      <th>generation_nuclear</th>\n",
              "      <th>generation_other_renewable</th>\n",
              "      <th>generation_solar</th>\n",
              "      <th>generation_waste</th>\n",
              "      <th>price_actual</th>\n",
              "    </tr>\n",
              "  </thead>\n",
              "  <tbody>\n",
              "    <tr>\n",
              "      <th>0</th>\n",
              "      <td>2015-01-01 00:00:00+01:00</td>\n",
              "      <td>447</td>\n",
              "      <td>4821</td>\n",
              "      <td>162</td>\n",
              "      <td>7096</td>\n",
              "      <td>73</td>\n",
              "      <td>49</td>\n",
              "      <td>196</td>\n",
              "      <td>65.41</td>\n",
              "    </tr>\n",
              "    <tr>\n",
              "      <th>1</th>\n",
              "      <td>2015-01-01 01:00:00+01:00</td>\n",
              "      <td>449</td>\n",
              "      <td>4755</td>\n",
              "      <td>158</td>\n",
              "      <td>7096</td>\n",
              "      <td>71</td>\n",
              "      <td>50</td>\n",
              "      <td>195</td>\n",
              "      <td>64.92</td>\n",
              "    </tr>\n",
              "    <tr>\n",
              "      <th>2</th>\n",
              "      <td>2015-01-01 02:00:00+01:00</td>\n",
              "      <td>448</td>\n",
              "      <td>4581</td>\n",
              "      <td>157</td>\n",
              "      <td>7099</td>\n",
              "      <td>73</td>\n",
              "      <td>50</td>\n",
              "      <td>196</td>\n",
              "      <td>64.48</td>\n",
              "    </tr>\n",
              "    <tr>\n",
              "      <th>3</th>\n",
              "      <td>2015-01-01 03:00:00+01:00</td>\n",
              "      <td>438</td>\n",
              "      <td>4131</td>\n",
              "      <td>160</td>\n",
              "      <td>7098</td>\n",
              "      <td>75</td>\n",
              "      <td>50</td>\n",
              "      <td>191</td>\n",
              "      <td>59.32</td>\n",
              "    </tr>\n",
              "    <tr>\n",
              "      <th>4</th>\n",
              "      <td>2015-01-01 04:00:00+01:00</td>\n",
              "      <td>428</td>\n",
              "      <td>3840</td>\n",
              "      <td>156</td>\n",
              "      <td>7097</td>\n",
              "      <td>74</td>\n",
              "      <td>42</td>\n",
              "      <td>189</td>\n",
              "      <td>56.04</td>\n",
              "    </tr>\n",
              "    <tr>\n",
              "      <th>5</th>\n",
              "      <td>2015-01-01 05:00:00+01:00</td>\n",
              "      <td>410</td>\n",
              "      <td>3590</td>\n",
              "      <td>156</td>\n",
              "      <td>7098</td>\n",
              "      <td>74</td>\n",
              "      <td>34</td>\n",
              "      <td>188</td>\n",
              "      <td>53.63</td>\n",
              "    </tr>\n",
              "    <tr>\n",
              "      <th>6</th>\n",
              "      <td>2015-01-01 06:00:00+01:00</td>\n",
              "      <td>401</td>\n",
              "      <td>3368</td>\n",
              "      <td>158</td>\n",
              "      <td>7098</td>\n",
              "      <td>74</td>\n",
              "      <td>34</td>\n",
              "      <td>186</td>\n",
              "      <td>51.73</td>\n",
              "    </tr>\n",
              "    <tr>\n",
              "      <th>7</th>\n",
              "      <td>2015-01-01 07:00:00+01:00</td>\n",
              "      <td>408</td>\n",
              "      <td>3208</td>\n",
              "      <td>160</td>\n",
              "      <td>7099</td>\n",
              "      <td>72</td>\n",
              "      <td>35</td>\n",
              "      <td>189</td>\n",
              "      <td>51.43</td>\n",
              "    </tr>\n",
              "    <tr>\n",
              "      <th>8</th>\n",
              "      <td>2015-01-01 08:00:00+01:00</td>\n",
              "      <td>413</td>\n",
              "      <td>3335</td>\n",
              "      <td>161</td>\n",
              "      <td>7098</td>\n",
              "      <td>73</td>\n",
              "      <td>54</td>\n",
              "      <td>198</td>\n",
              "      <td>48.98</td>\n",
              "    </tr>\n",
              "    <tr>\n",
              "      <th>9</th>\n",
              "      <td>2015-01-01 09:00:00+01:00</td>\n",
              "      <td>419</td>\n",
              "      <td>3437</td>\n",
              "      <td>163</td>\n",
              "      <td>7097</td>\n",
              "      <td>74</td>\n",
              "      <td>743</td>\n",
              "      <td>198</td>\n",
              "      <td>54.20</td>\n",
              "    </tr>\n",
              "  </tbody>\n",
              "</table>\n",
              "</div>\n",
              "      <button class=\"colab-df-convert\" onclick=\"convertToInteractive('df-0debc932-5b4b-451e-bd66-769039b262a7')\"\n",
              "              title=\"Convert this dataframe to an interactive table.\"\n",
              "              style=\"display:none;\">\n",
              "        \n",
              "  <svg xmlns=\"http://www.w3.org/2000/svg\" height=\"24px\"viewBox=\"0 0 24 24\"\n",
              "       width=\"24px\">\n",
              "    <path d=\"M0 0h24v24H0V0z\" fill=\"none\"/>\n",
              "    <path d=\"M18.56 5.44l.94 2.06.94-2.06 2.06-.94-2.06-.94-.94-2.06-.94 2.06-2.06.94zm-11 1L8.5 8.5l.94-2.06 2.06-.94-2.06-.94L8.5 2.5l-.94 2.06-2.06.94zm10 10l.94 2.06.94-2.06 2.06-.94-2.06-.94-.94-2.06-.94 2.06-2.06.94z\"/><path d=\"M17.41 7.96l-1.37-1.37c-.4-.4-.92-.59-1.43-.59-.52 0-1.04.2-1.43.59L10.3 9.45l-7.72 7.72c-.78.78-.78 2.05 0 2.83L4 21.41c.39.39.9.59 1.41.59.51 0 1.02-.2 1.41-.59l7.78-7.78 2.81-2.81c.8-.78.8-2.07 0-2.86zM5.41 20L4 18.59l7.72-7.72 1.47 1.35L5.41 20z\"/>\n",
              "  </svg>\n",
              "      </button>\n",
              "      \n",
              "  <style>\n",
              "    .colab-df-container {\n",
              "      display:flex;\n",
              "      flex-wrap:wrap;\n",
              "      gap: 12px;\n",
              "    }\n",
              "\n",
              "    .colab-df-convert {\n",
              "      background-color: #E8F0FE;\n",
              "      border: none;\n",
              "      border-radius: 50%;\n",
              "      cursor: pointer;\n",
              "      display: none;\n",
              "      fill: #1967D2;\n",
              "      height: 32px;\n",
              "      padding: 0 0 0 0;\n",
              "      width: 32px;\n",
              "    }\n",
              "\n",
              "    .colab-df-convert:hover {\n",
              "      background-color: #E2EBFA;\n",
              "      box-shadow: 0px 1px 2px rgba(60, 64, 67, 0.3), 0px 1px 3px 1px rgba(60, 64, 67, 0.15);\n",
              "      fill: #174EA6;\n",
              "    }\n",
              "\n",
              "    [theme=dark] .colab-df-convert {\n",
              "      background-color: #3B4455;\n",
              "      fill: #D2E3FC;\n",
              "    }\n",
              "\n",
              "    [theme=dark] .colab-df-convert:hover {\n",
              "      background-color: #434B5C;\n",
              "      box-shadow: 0px 1px 3px 1px rgba(0, 0, 0, 0.15);\n",
              "      filter: drop-shadow(0px 1px 2px rgba(0, 0, 0, 0.3));\n",
              "      fill: #FFFFFF;\n",
              "    }\n",
              "  </style>\n",
              "\n",
              "      <script>\n",
              "        const buttonEl =\n",
              "          document.querySelector('#df-0debc932-5b4b-451e-bd66-769039b262a7 button.colab-df-convert');\n",
              "        buttonEl.style.display =\n",
              "          google.colab.kernel.accessAllowed ? 'block' : 'none';\n",
              "\n",
              "        async function convertToInteractive(key) {\n",
              "          const element = document.querySelector('#df-0debc932-5b4b-451e-bd66-769039b262a7');\n",
              "          const dataTable =\n",
              "            await google.colab.kernel.invokeFunction('convertToInteractive',\n",
              "                                                     [key], {});\n",
              "          if (!dataTable) return;\n",
              "\n",
              "          const docLinkHtml = 'Like what you see? Visit the ' +\n",
              "            '<a target=\"_blank\" href=https://colab.research.google.com/notebooks/data_table.ipynb>data table notebook</a>'\n",
              "            + ' to learn more about interactive tables.';\n",
              "          element.innerHTML = '';\n",
              "          dataTable['output_type'] = 'display_data';\n",
              "          await google.colab.output.renderOutput(dataTable, element);\n",
              "          const docLink = document.createElement('div');\n",
              "          docLink.innerHTML = docLinkHtml;\n",
              "          element.appendChild(docLink);\n",
              "        }\n",
              "      </script>\n",
              "    </div>\n",
              "  </div>\n",
              "  "
            ]
          },
          "metadata": {},
          "execution_count": 5
        }
      ]
    },
    {
      "cell_type": "markdown",
      "source": [
        "Sagarikasarkar. (2022). 13_Energy Price Prediction_MiniProject.ipynb. Kaggle.\n",
        "\n",
        " https://www.kaggle.com/code/sagarikasarkar13-energy-price-prediction-miniproject-ipynb/input"
      ],
      "metadata": {
        "id": "omb81bT_OBjI"
      }
    },
    {
      "cell_type": "code",
      "source": [
        "df_sel = ['generation_biomass', 'generation_fossil_hard_coal', 'generation_fossil_oil', 'generation_nuclear', 'generation_other_renewable', 'generation_solar', 'generation_waste', 'price_actual']\n",
        "\n",
        "BaseAumentada = df[df_sel]\n"
      ],
      "metadata": {
        "id": "vWmJg8689fuW"
      },
      "execution_count": null,
      "outputs": []
    },
    {
      "cell_type": "code",
      "source": [
        "BaseAumentada.shape"
      ],
      "metadata": {
        "colab": {
          "base_uri": "https://localhost:8080/"
        },
        "id": "_jJ4e-PzCX3p",
        "outputId": "7366db15-281a-4483-8285-709031dd5cae"
      },
      "execution_count": null,
      "outputs": [
        {
          "output_type": "execute_result",
          "data": {
            "text/plain": [
              "(16918, 8)"
            ]
          },
          "metadata": {},
          "execution_count": 7
        }
      ]
    },
    {
      "cell_type": "markdown",
      "source": [
        "# Neural Gas sin libreria"
      ],
      "metadata": {
        "id": "3OWdMB-AV5W6"
      }
    },
    {
      "cell_type": "code",
      "source": [
        "import pandas as pd\n",
        "import math\n",
        "import matplotlib.pyplot as plt\n",
        "import numpy as np\n",
        "import math\n",
        "import numpy as np\n",
        "from scipy.spatial import distance\n",
        "\n",
        "def euclidean_distance(a, b):\n",
        "    a = np.array(a)\n",
        "    b = np.array(b)\n",
        "    return np.linalg.norm(a - b)\n",
        "\n",
        "m = BaseAumentada.shape[0]\n",
        "n = BaseAumentada.shape[1]\n",
        "pertenencia = np.zeros(m)\n",
        "neuronas = np.zeros((3, n))\n",
        "promedio = np.zeros((1, n))\n",
        "minimo = np.zeros((1, n))\n",
        "maximo = np.zeros((1, n))\n",
        "indice = np.zeros((1, 3))\n",
        "\n",
        "# Initialize the locations.\n",
        "for i in range(n):\n",
        "    minimo[0, i] = np.min(BaseAumentada.iloc[:, i])\n",
        "\n",
        "for i in range(n):\n",
        "    maximo[0, i] = np.max(BaseAumentada.iloc[:, i])\n",
        "\n",
        "for i in range(n):\n",
        "    promedio[0, i] = np.mean(BaseAumentada.iloc[:, i])\n",
        "\n",
        "neuronas[0, :] = minimo[0, :]\n",
        "neuronas[1, :] = promedio[0, :]\n",
        "neuronas[2, :] = maximo[0, :]\n",
        "\n",
        "# Synaptic Potential\n",
        "h = np.zeros((1, 3))\n",
        "sorted_h = np.zeros((1, 3))\n",
        "base = BaseAumentada.values\n",
        "\n",
        "# Clean base data\n",
        "base = base[np.isfinite(base).all(axis=1)]\n",
        "\n",
        "# Cluster\n",
        "cluster = np.zeros((1, 3))\n",
        "\n",
        "for k in range(3):\n",
        "    cluster = np.zeros((1, 3))\n",
        "    indice = np.zeros((1, 3))\n",
        "\n",
        "    for i in range(m):\n",
        "        for j in range(3):\n",
        "            h[0, j] = euclidean_distance(base[i, :], neuronas[j, :])\n",
        "            sorted_h = np.sort(h)\n",
        "\n",
        "        un = 0.5 * (1 - i / m)\n",
        "       # max_val = np.max(h[0, :])\n",
        "\n",
        "        po = 1  # densidad inicial\n",
        "        pf = (3 / (10 / 2))  # num neuronas / ( num epocas / 2 )\n",
        "        p = po * ((pf / po) ** (i / m))  # Funcion de densidad\n",
        "\n",
        "        if h[0,0] == sorted_h[0,0]:\n",
        "            cluster[0, 0] += 1\n",
        "            pertenencia[i] = 1\n",
        "            indice = 0\n",
        "\n",
        "        if h[0,1] == sorted_h[0,0]:\n",
        "            cluster[0, 1] += 1\n",
        "            pertenencia[i] = 2\n",
        "            indice = 0\n",
        "\n",
        "        if h[0,2] == sorted_h[0,0]:\n",
        "            cluster[0, 2] += 1\n",
        "            pertenencia[i] = 3\n",
        "            indice = 0\n",
        "\n",
        "        if h[0,0] == sorted_h[0,1]:\n",
        "            indice = 1\n",
        "\n",
        "        if h[0,0] == sorted_h[0,2]:\n",
        "            indice = 2\n",
        "\n",
        "        if h[0,1] == sorted_h[0,1]:\n",
        "            indice = 1\n",
        "\n",
        "        if h[0,1] == sorted_h[0,2]:\n",
        "            indice = 2\n",
        "\n",
        "\n",
        "        if h[0,2] == sorted_h[0,1]:\n",
        "            indice = 1\n",
        "\n",
        "        if h[0,2] == sorted_h[0,2]:\n",
        "            indice = 2\n",
        "\n",
        "\n",
        "            neuronas[0, :] = neuronas[0, :] + un * np.exp(-indice / p) * (base[i, :] - neuronas[0, :])\n",
        "            neuronas[1, :] = neuronas[1, :] + un * np.exp(-indice / p) * (base[i, :] - neuronas[1, :])\n",
        "            neuronas[2, :] = neuronas[2, :] + un * np.exp(-indice / p) * (base[i, :] - neuronas[2, :])\n",
        "\n",
        "        k += 1"
      ],
      "metadata": {
        "id": "5TjM7sFrV97B"
      },
      "execution_count": null,
      "outputs": []
    },
    {
      "cell_type": "code",
      "source": [
        "print(neuronas)"
      ],
      "metadata": {
        "colab": {
          "base_uri": "https://localhost:8080/"
        },
        "id": "MblhJlp_WGbx",
        "outputId": "2bc4c837-712e-4376-937e-158ef1d4885a"
      },
      "execution_count": null,
      "outputs": [
        {
          "output_type": "stream",
          "name": "stdout",
          "text": [
            "[[ 365.4262575  1008.7894684   235.60198034 4249.24016419   60.36297993\n",
            "    53.23955562  156.68696777   23.94147291]\n",
            " [ 365.46305923 1009.22107684  235.62674101 4249.52951993   60.36968759\n",
            "    53.40017194  156.70921931   23.94643104]\n",
            " [ 365.48089403 1009.65552965  235.64226226 4249.61894775   60.37299478\n",
            "    53.88306484  156.72079568   23.95185385]]\n"
          ]
        }
      ]
    },
    {
      "cell_type": "code",
      "source": [
        "pd.Series(pertenencia).value_counts()"
      ],
      "metadata": {
        "colab": {
          "base_uri": "https://localhost:8080/"
        },
        "id": "07Bo3-PoWKlq",
        "outputId": "83f32608-8f14-4fd1-ea05-d18fe6472f5b"
      },
      "execution_count": null,
      "outputs": [
        {
          "output_type": "execute_result",
          "data": {
            "text/plain": [
              "3.0    16844\n",
              "1.0       47\n",
              "2.0       27\n",
              "dtype: int64"
            ]
          },
          "metadata": {},
          "execution_count": 50
        }
      ]
    },
    {
      "cell_type": "code",
      "source": [
        "def calcular_promedio_clusters(BaseAumentada, pertenencia):\n",
        "    num_clusters = int(np.max(pertenencia))\n",
        "    promedios = []\n",
        "\n",
        "    for cluster in range(1, num_clusters + 1):\n",
        "        indices_cluster = np.where(pertenencia == cluster)[0]\n",
        "\n",
        "        if indices_cluster.size > 0:\n",
        "            promedio_cluster = np.mean(BaseAumentada.iloc[indices_cluster, :], axis=0)\n",
        "            promedios.append(promedio_cluster)\n",
        "\n",
        "    return promedios\n",
        "\n",
        "promedios_clusters = calcular_promedio_clusters(BaseAumentada, pertenencia)\n",
        "for i, promedio_cluster in enumerate(promedios_clusters):\n",
        "    print(f\"Promedio Cluster {i+1}:{promedio_cluster}\")"
      ],
      "metadata": {
        "id": "R0HseTZPWQAC",
        "outputId": "7681a3de-4a9d-40a5-b710-d932f16c563d",
        "colab": {
          "base_uri": "https://localhost:8080/"
        }
      },
      "execution_count": null,
      "outputs": [
        {
          "output_type": "stream",
          "name": "stdout",
          "text": [
            "Promedio Cluster 1:generation_biomass              392.914894\n",
            "generation_fossil_hard_coal    1073.617021\n",
            "generation_fossil_oil           247.872340\n",
            "generation_nuclear             3787.297872\n",
            "generation_other_renewable       60.212766\n",
            "generation_solar                 39.574468\n",
            "generation_waste                146.212766\n",
            "price_actual                     23.705532\n",
            "dtype: float64\n",
            "Promedio Cluster 2:generation_biomass              281.777778\n",
            "generation_fossil_hard_coal     694.111111\n",
            "generation_fossil_oil           204.814815\n",
            "generation_nuclear             5122.592593\n",
            "generation_other_renewable       63.407407\n",
            "generation_solar                 87.037037\n",
            "generation_waste                195.851852\n",
            "price_actual                     28.148889\n",
            "dtype: float64\n",
            "Promedio Cluster 3:generation_biomass              432.073320\n",
            "generation_fossil_hard_coal    4470.181608\n",
            "generation_fossil_oil           309.855557\n",
            "generation_nuclear             6321.295120\n",
            "generation_other_renewable       74.336143\n",
            "generation_solar               1458.535502\n",
            "generation_waste                239.295001\n",
            "price_actual                     54.012526\n",
            "dtype: float64\n"
          ]
        }
      ]
    },
    {
      "cell_type": "markdown",
      "source": [
        "# Competitive learning sin libreria"
      ],
      "metadata": {
        "id": "PnOeYRZS07Ru"
      }
    },
    {
      "cell_type": "code",
      "source": [
        "\n",
        "# STEP 2. ALGORITHM.\n",
        "\n",
        "\n",
        "m = BaseAumentada.shape[0]\n",
        "n = BaseAumentada.shape[1]\n",
        "pertenencia = np.zeros(m)\n",
        "neuronas = np.zeros((3, n))\n",
        "promedio = np.zeros((1, n))\n",
        "minimo = np.zeros((1, n))\n",
        "maximo = np.zeros((1, n))\n",
        "\n",
        "# Initialize the locations.\n",
        "for i in range(n):\n",
        "    minimo[0, i] = np.min(BaseAumentada.iloc[:, i])\n",
        "\n",
        "for i in range(n):\n",
        "    maximo[0, i] = np.max(BaseAumentada.iloc[:, i])\n",
        "\n",
        "for i in range(n):\n",
        "    promedio[0, i] = np.mean(BaseAumentada.iloc[:, i])\n",
        "\n",
        "neuronas[0, :] = minimo[0, :]\n",
        "neuronas[1, :] = promedio[0, :]\n",
        "neuronas[2, :] = maximo[0, :]\n",
        "\n",
        "# Synaptic Potential\n",
        "h = np.zeros((1, 3))\n",
        "base = BaseAumentada.values\n",
        "\n",
        "# Cluster\n",
        "cluster = np.zeros((1, 3))\n",
        "\n",
        "for k in range(3):\n",
        "    cluster = np.zeros((1, 3))\n",
        "\n",
        "    for i in range(m):\n",
        "        for j in range(3):\n",
        "            h[0, j] = np.dot(base[i, :], neuronas[j, :]) - 0.5 * (np.dot(neuronas[j, :], neuronas[j, :]))\n",
        "\n",
        "        un = 0.5 * (1 - i / m)\n",
        "        max_val = np.max(h[0, :])\n",
        "\n",
        "        if h[0, 0] == max_val:\n",
        "            neuronas[0, :] = neuronas[0, :] + un * (base[i, :] - neuronas[0, :])\n",
        "            cluster[0, 0] += 1\n",
        "            pertenencia[i] = 1\n",
        "\n",
        "        if h[0, 1] == max_val:\n",
        "            neuronas[1, :] = neuronas[1, :] + un * (base[i, :] - neuronas[1, :])\n",
        "            cluster[0, 1] += 1\n",
        "            pertenencia[i] = 2\n",
        "\n",
        "        if h[0, 2] == max_val:\n",
        "            neuronas[2, :] = neuronas[2, :] + un * (base[i, :] - neuronas[2, :])\n",
        "            cluster[0, 2] += 1\n",
        "            pertenencia[i] = 3\n",
        "\n",
        "    k += 1"
      ],
      "metadata": {
        "id": "B_NMzoS_016c"
      },
      "execution_count": null,
      "outputs": []
    },
    {
      "cell_type": "code",
      "source": [
        "print(neuronas)"
      ],
      "metadata": {
        "colab": {
          "base_uri": "https://localhost:8080/"
        },
        "id": "smxpe7Jx1sYC",
        "outputId": "da3b2ed7-8989-4f71-b106-f278b55da946"
      },
      "execution_count": null,
      "outputs": [
        {
          "output_type": "stream",
          "name": "stdout",
          "text": [
            "[[ 370.03762443 6029.65015344  268.07365765 5087.49655121   87.41533575\n",
            "   368.74721482  284.30291677   63.87476274]\n",
            " [ 353.04361842 4847.72191486  274.99854931 5856.51211009   87.55062181\n",
            "  3682.40228678  289.03931437   65.13917295]\n",
            " [ 342.61259446 1765.26620245  274.44184081 6014.02830206   79.82131026\n",
            "   569.38981862  239.44547994   57.1765326 ]]\n"
          ]
        }
      ]
    },
    {
      "cell_type": "code",
      "source": [
        "pd.Series(pertenencia).value_counts()"
      ],
      "metadata": {
        "colab": {
          "base_uri": "https://localhost:8080/"
        },
        "id": "p2EDhcyR5WMn",
        "outputId": "faf1ecc9-fd7c-44f8-99ee-619333331de9"
      },
      "execution_count": null,
      "outputs": [
        {
          "output_type": "execute_result",
          "data": {
            "text/plain": [
              "2.0    6391\n",
              "1.0    5267\n",
              "3.0    5260\n",
              "dtype: int64"
            ]
          },
          "metadata": {},
          "execution_count": 28
        }
      ]
    },
    {
      "cell_type": "code",
      "source": [
        "def calcular_promedio_clusters(BaseAumentada, pertenencia):\n",
        "    num_clusters = int(np.max(pertenencia))\n",
        "    promedios = []\n",
        "\n",
        "    for cluster in range(1, num_clusters + 1):\n",
        "        indices_cluster = np.where(pertenencia == cluster)[0]\n",
        "\n",
        "        if indices_cluster.size > 0:\n",
        "            promedio_cluster = np.mean(BaseAumentada.iloc[indices_cluster, :], axis=0)\n",
        "            promedios.append(promedio_cluster)\n",
        "\n",
        "    return promedios\n",
        "\n",
        "promedios_clusters = calcular_promedio_clusters(BaseAumentada, pertenencia)\n",
        "for i, promedio_cluster in enumerate(promedios_clusters):\n",
        "    print(f\"Promedio Cluster {i+1}:{promedio_cluster}\")"
      ],
      "metadata": {
        "colab": {
          "base_uri": "https://localhost:8080/"
        },
        "id": "XF4pgtNGVVfj",
        "outputId": "4e370e40-2c36-4b87-c4f3-f5433f4f1ee6"
      },
      "execution_count": null,
      "outputs": [
        {
          "output_type": "stream",
          "name": "stdout",
          "text": [
            "Promedio Cluster 1:generation_biomass              435.183026\n",
            "generation_fossil_hard_coal    5236.552497\n",
            "generation_fossil_oil           313.212835\n",
            "generation_nuclear             6185.215493\n",
            "generation_other_renewable       76.613442\n",
            "generation_solar               1436.949307\n",
            "generation_waste                254.395102\n",
            "price_actual                     56.362123\n",
            "dtype: float64\n",
            "Promedio Cluster 2:generation_biomass              443.235018\n",
            "generation_fossil_hard_coal    4335.996871\n",
            "generation_fossil_oil           310.870286\n",
            "generation_nuclear             6411.182601\n",
            "generation_other_renewable       72.680175\n",
            "generation_solar               1543.667814\n",
            "generation_waste                228.755437\n",
            "price_actual                     52.913657\n",
            "dtype: float64\n",
            "Promedio Cluster 3:generation_biomass              414.276426\n",
            "generation_fossil_hard_coal    3816.095437\n",
            "generation_fossil_oil           304.167871\n",
            "generation_nuclear             6319.545627\n",
            "generation_other_renewable       73.885551\n",
            "generation_solar               1356.994106\n",
            "generation_waste                235.925856\n",
            "price_actual                     52.591384\n",
            "dtype: float64\n"
          ]
        }
      ]
    },
    {
      "cell_type": "markdown",
      "source": [
        "# Kmeans sin libreria"
      ],
      "metadata": {
        "id": "F7GXq6-A03U9"
      }
    },
    {
      "cell_type": "code",
      "source": [
        "#### K Means\n",
        "# STEP 2. ALGORITHM.\n",
        "\n",
        "\n",
        "m = BaseAumentada.shape[0]\n",
        "n = BaseAumentada.shape[1]\n",
        "pertenencia = np.zeros(m)\n",
        "neuronas = np.zeros((3, n))\n",
        "promedio = np.zeros((1, n))\n",
        "minimo = np.zeros((1, n))\n",
        "maximo = np.zeros((1, n))\n",
        "\n",
        "# Initialize the locations.\n",
        "for i in range(n):\n",
        "    minimo[0, i] = np.min(BaseAumentada.iloc[:, i])\n",
        "\n",
        "for i in range(n):\n",
        "    maximo[0, i] = np.max(BaseAumentada.iloc[:, i])\n",
        "\n",
        "for i in range(n):\n",
        "    promedio[0, i] = np.mean(BaseAumentada.iloc[:, i])\n",
        "\n",
        "neuronas[0, :] = minimo[0, :]\n",
        "neuronas[1, :] = promedio[0, :]\n",
        "neuronas[2, :] = maximo[0, :]\n",
        "\n",
        "# Synaptic Potential\n",
        "h = np.zeros((1, 3))\n",
        "base = BaseAumentada.values\n",
        "accum = np.zeros((3,n))\n",
        "\n",
        "# Cluster\n",
        "cluster = np.zeros((1, 3))\n",
        "\n",
        "for k in range(3):\n",
        "    cluster = np.zeros((1, 3))\n",
        "\n",
        "    for i in range(m):\n",
        "        for j in range(3):\n",
        "            h[0, j] = np.dot(base[i, :], neuronas[j, :]) - 0.5 * (np.dot(neuronas[j, :], neuronas[j, :]))\n",
        "\n",
        "        un = 0.5 * (1 - i / m)\n",
        "        max_val = np.max(h[0, :])\n",
        "\n",
        "        if h[0, 0] == max_val:\n",
        "            neuronas[0, :] = neuronas[0, :]  #+ un * (base[i, :] - neuronas[0, :])\n",
        "            cluster[0, 0] += 1\n",
        "            pertenencia[i] = 1\n",
        "            accum[0,:] =(accum[0,:] +  base[i, :]) / cluster[0,0]\n",
        "\n",
        "\n",
        "        if h[0, 1] == max_val:\n",
        "            neuronas[1, :] = neuronas[1, :]# + un * (base[i, :] - neuronas[1, :])\n",
        "            cluster[0, 1] += 1\n",
        "            pertenencia[i] = 2\n",
        "            accum[1,:] = (accum[1,:] +  base[i, :]) / cluster[0,1]\n",
        "\n",
        "        if h[0, 2] == max_val:\n",
        "            neuronas[2, :] = neuronas[2, :] # + un * (base[i, :] - neuronas[2, :])\n",
        "            cluster[0, 2] += 1\n",
        "            pertenencia[i] = 3\n",
        "            accum[2,:] =(accum[2,:] +  base[i, :]) / cluster[0,2]\n",
        "\n",
        "    k += 1\n"
      ],
      "metadata": {
        "id": "uP-ilNr501-o"
      },
      "execution_count": null,
      "outputs": []
    },
    {
      "cell_type": "code",
      "source": [
        "print(neuronas)"
      ],
      "metadata": {
        "colab": {
          "base_uri": "https://localhost:8080/"
        },
        "id": "B0BvINMm1ZtL",
        "outputId": "dc875703-7513-4bd2-9b55-0c3465ff7aef"
      },
      "execution_count": null,
      "outputs": [
        {
          "output_type": "stream",
          "name": "stdout",
          "text": [
            "[[ 101.          576.           87.         3712.           14.\n",
            "     9.           39.            9.33      ]\n",
            " [ 431.72467195 4454.71923395  309.5157229  6312.34235725   74.27946566\n",
            "  1452.40465776  238.96707649   53.88705284]\n",
            " [ 592.         8359.          449.         7116.          104.\n",
            "  5792.          343.          102.62      ]]\n"
          ]
        }
      ]
    },
    {
      "cell_type": "code",
      "source": [
        "pd.Series(pertenencia).value_counts()"
      ],
      "metadata": {
        "colab": {
          "base_uri": "https://localhost:8080/"
        },
        "id": "I4HCfNrV5R0M",
        "outputId": "5cf1230a-6de7-47ed-c2e4-26ce8f1699c3"
      },
      "execution_count": null,
      "outputs": [
        {
          "output_type": "execute_result",
          "data": {
            "text/plain": [
              "2.0    13361\n",
              "1.0     2081\n",
              "3.0     1476\n",
              "dtype: int64"
            ]
          },
          "metadata": {},
          "execution_count": 39
        }
      ]
    },
    {
      "cell_type": "code",
      "source": [
        "def calcular_promedio_clusters(BaseAumentada, pertenencia):\n",
        "    num_clusters = int(np.max(pertenencia))\n",
        "    promedios = []\n",
        "\n",
        "    for cluster in range(1, num_clusters + 1):\n",
        "        indices_cluster = np.where(pertenencia == cluster)[0]\n",
        "\n",
        "        if indices_cluster.size > 0:\n",
        "            promedio_cluster = np.mean(BaseAumentada.iloc[indices_cluster, :], axis=0)\n",
        "            promedios.append(promedio_cluster)\n",
        "\n",
        "    return promedios\n",
        "\n",
        "promedios_clusters = calcular_promedio_clusters(BaseAumentada, pertenencia)\n",
        "for i, promedio_cluster in enumerate(promedios_clusters):\n",
        "    print(f\"Promedio Cluster {i+1}:{promedio_cluster}\")"
      ],
      "metadata": {
        "colab": {
          "base_uri": "https://localhost:8080/"
        },
        "id": "cec489kvVclr",
        "outputId": "421b5829-9803-4ae6-f086-c3b41087bb35"
      },
      "execution_count": null,
      "outputs": [
        {
          "output_type": "stream",
          "name": "stdout",
          "text": [
            "Promedio Cluster 1:generation_biomass              362.124940\n",
            "generation_fossil_hard_coal    1336.694858\n",
            "generation_fossil_oil           267.134551\n",
            "generation_nuclear             5721.631427\n",
            "generation_other_renewable       70.170591\n",
            "generation_solar                556.155694\n",
            "generation_waste                204.255646\n",
            "price_actual                     40.659712\n",
            "dtype: float64\n",
            "Promedio Cluster 2:generation_biomass              437.684754\n",
            "generation_fossil_hard_coal    4674.684904\n",
            "generation_fossil_oil           312.018262\n",
            "generation_nuclear             6395.541427\n",
            "generation_other_renewable       75.157249\n",
            "generation_solar               1268.930694\n",
            "generation_waste                242.490532\n",
            "price_actual                     54.708472\n",
            "dtype: float64\n",
            "Promedio Cluster 3:generation_biomass              475.901084\n",
            "generation_fossil_hard_coal    6859.629404\n",
            "generation_fossil_oil           346.615176\n",
            "generation_nuclear             6392.048780\n",
            "generation_other_renewable       72.126694\n",
            "generation_solar               4376.855691\n",
            "generation_waste                256.011518\n",
            "price_actual                     65.100549\n",
            "dtype: float64\n"
          ]
        }
      ]
    }
  ]
}